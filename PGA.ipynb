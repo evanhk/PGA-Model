{
 "cells": [
  {
   "cell_type": "code",
   "execution_count": null,
   "id": "d047dd1d-c11e-4635-93ea-276b7594212d",
   "metadata": {},
   "outputs": [],
   "source": [
    "import pandas as pd\n",
    "import requests\n"
   ]
  },
  {
   "cell_type": "code",
   "execution_count": null,
   "id": "fcb5243c-5d1b-4908-8f87-5fc2522ee798",
   "metadata": {},
   "outputs": [],
   "source": [
    "url = \"https://live-golf-data.p.rapidapi.com/stats\"\n",
    "\n",
    "querystring = {\"year\":\"2022\",\"statId\":\"186\"}\n",
    "\n",
    "headers = {\n",
    "    \"X-RapidAPI-Key\": \"25ddd59395msh5e48096c9dca05bp1515c2jsn9630e24f9d7d\",\n",
    "    \"X-RapidAPI-Host\": \"live-golf-data.p.rapidapi.com\"\n",
    "}\n",
    "\n",
    "response = requests.get(url, headers=headers, params=querystring)"
   ]
  },
  {
   "cell_type": "code",
   "execution_count": null,
   "id": "1a57c3fb-e1ed-4b86-b7bb-24195255a4b2",
   "metadata": {},
   "outputs": [],
   "source": [
    "response.json()"
   ]
  },
  {
   "cell_type": "code",
   "execution_count": null,
   "id": "54abcc26-4c44-4855-b2d4-5701faa818da",
   "metadata": {},
   "outputs": [],
   "source": [
    "#Valspar 2023 Leaderbaord\n",
    "\n",
    "url = \"https://live-golf-data.p.rapidapi.com/leaderboard\"\n",
    "\n",
    "querystring = {\"orgId\":\"1\",\"tournId\":\"475\",\"year\":\"2022\"}\n",
    "\n",
    "headers = {\n",
    "\t\"X-RapidAPI-Key\": \"25ddd59395msh5e48096c9dca05bp1515c2jsn9630e24f9d7d\",\n",
    "\t\"X-RapidAPI-Host\": \"live-golf-data.p.rapidapi.com\"\n",
    "}\n",
    "\n",
    "response = requests.get(url, headers=headers, params=querystring)\n",
    "\n"
   ]
  },
  {
   "cell_type": "code",
   "execution_count": null,
   "id": "8ff233e3-d57d-420a-bb37-9aa80a81c349",
   "metadata": {},
   "outputs": [],
   "source": [
    "Val2023 = response"
   ]
  },
  {
   "cell_type": "code",
   "execution_count": null,
   "id": "5f6c8f9b-cb34-4e85-bc88-77a7805dd7fc",
   "metadata": {
    "tags": []
   },
   "outputs": [],
   "source": [
    "df_val = pd.json_normalize(Val2023.json()['leaderboardRows'])"
   ]
  },
  {
   "cell_type": "code",
   "execution_count": null,
   "id": "af3a34fd-0c57-4f50-8e70-0668ff6d77fb",
   "metadata": {},
   "outputs": [],
   "source": [
    "df_val.describe()"
   ]
  },
  {
   "cell_type": "code",
   "execution_count": null,
   "id": "78c97e4c-ee62-492a-88b3-7961ba7507f0",
   "metadata": {},
   "outputs": [],
   "source": [
    "df_val.head()"
   ]
  },
  {
   "cell_type": "code",
   "execution_count": null,
   "id": "80ce68e6-89a1-4d1b-ae4d-18529602203d",
   "metadata": {},
   "outputs": [],
   "source": [
    "##Get Schedule for year\n",
    "\n",
    "url = 'https://live-golf-data.p.rapidapi.com/schedule'\n",
    "\n",
    "query = {'year=2023'}\n",
    "\n",
    "headers = {\n",
    "    \"X-RapidAPI-Key\": \"25ddd59395msh5e48096c9dca05bp1515c2jsn9630e24f9d7d\",\n",
    "    \"X-RapidAPI-Host\": \"live-golf-data.p.rapidapi.com\"\n",
    "}\n",
    "response = requests.get(url, headers=headers, params=querystring)\n"
   ]
  },
  {
   "cell_type": "code",
   "execution_count": null,
   "id": "1f7423b1-66de-4801-ad7a-b405f425d788",
   "metadata": {},
   "outputs": [],
   "source": [
    "df_sched = pd.json_normalize(response.json()['schedule'], max_level = 5)"
   ]
  },
  {
   "cell_type": "code",
   "execution_count": null,
   "id": "ca437e01-fccd-4c26-b560-d25a27a1ce91",
   "metadata": {},
   "outputs": [],
   "source": [
    "df_sched"
   ]
  },
  {
   "cell_type": "code",
   "execution_count": null,
   "id": "30321df5-3649-4bcc-a8ef-ce0ad20d2c1f",
   "metadata": {},
   "outputs": [],
   "source": []
  }
 ],
 "metadata": {
  "kernelspec": {
   "display_name": "Python 3",
   "language": "python",
   "name": "python3"
  },
  "language_info": {
   "codemirror_mode": {
    "name": "ipython",
    "version": 3
   },
   "file_extension": ".py",
   "mimetype": "text/x-python",
   "name": "python",
   "nbconvert_exporter": "python",
   "pygments_lexer": "ipython3",
   "version": "3.6.5"
  }
 },
 "nbformat": 4,
 "nbformat_minor": 5
}
